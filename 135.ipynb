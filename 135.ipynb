{
  "nbformat": 4,
  "nbformat_minor": 0,
  "metadata": {
    "kernelspec": {
      "display_name": "Python 3",
      "language": "python",
      "name": "python3"
    },
    "language_info": {
      "codemirror_mode": {
        "name": "ipython",
        "version": 3
      },
      "file_extension": ".py",
      "mimetype": "text/x-python",
      "name": "python",
      "nbconvert_exporter": "python",
      "pygments_lexer": "ipython3",
      "version": "3.7.7"
    },
    "colab": {
      "name": "135.ipynb",
      "provenance": []
    }
  },
  "cells": [
    {
      "cell_type": "markdown",
      "metadata": {
        "id": "8LvoX-tK2-Og"
      },
      "source": [
        "# Module 1: Data Wrangling with Python\n",
        "## Sprint 3: Data Visualization with Python\n",
        "## Part 5: Coursera Course Analysis\n"
      ]
    },
    {
      "cell_type": "markdown",
      "metadata": {
        "id": "n36CJ-Sy2-Oi"
      },
      "source": [
        "## About this Part\n",
        "\n",
        "Congrats!\n",
        "You have reached the last Part of this Sprint.\n",
        "In this Part, you will need to use all that you learned in this and previous Sprints.\n",
        "As the final assignment of this Sprint, you will analyse the Coursera Course Dataset.\n",
        "You will have to apply all that you have learned about Data Visualization & Data Analysis to complete this task.\n",
        "You'll notice that in this project you have fewer explicitly stated requirements.\n",
        "Our expectation is that you'll use your own judgement how to perform the analysis and how to select the most important avenues of exploration.\n",
        "You'll have to iteratively raise hypotheses and use your data analysis skills to get answers.\n",
        "\n",
        "## Objectives for this Part\n",
        "\n",
        "- Practice working with data from Kaggle.\n",
        "- Practice performing basic EDA.\n",
        "- Practice visualizing data with Matplotlib & Seaborn.\n",
        "- Practice reading data, performing queries and filtering data using Pandas.\n",
        "\n",
        "## Requirements\n",
        "\n",
        "- Download the data from [Coursera Course Dataset](https://www.kaggle.com/siddharthm1698/coursera-course-dataset).\n",
        "- Load the data using Pandas.\n",
        "- Perform data cleaning.\n",
        "- Perform exploratory data analysis.\n",
        "- Provide clear explanations in your notebook. Your explanations should inform the reader what you are trying to achieve, what results did you get, and what these results mean.\n",
        "- Provide suggestions about how your analysis can be improved.\n",
        "\n",
        "## Evaluation Criteria\n",
        "\n",
        "- Adherence to the requirements. How well did you meet the requirements?\n",
        "- Visualization quality. Did you use charts effectively to visualize patterns in the data? Are your visualizations properly labeled? Did you use colors effectively? Did you adhere to the principle of proportional ink?\n",
        "- Code quality. Was your code well-structure? Did you use the appropriate levels of abstraction? Did you remove commented out and unused code? Did you adhere to the PEP8?\n",
        "- Code performance. Did you use the suitable algorithms and data structures to solve the problems?\n",
        "\n",
        "## Sample Correction Questions\n",
        "\n",
        "During a correction, you may get asked questions that test your understanding of covered topics.\n",
        "\n",
        "- What is the difference between continuous and discrete distributions?\n",
        "- What is a Bernoulli trial?\n",
        "- What is a Standard Normal Distribution?\n",
        "- What is a random variable?\n",
        "- Explain the Bayes's Theorem\n",
        "- Explain the Simpson's paradox\n"
      ]
    },
    {
      "cell_type": "code",
      "metadata": {
        "id": "WtpKt0wh3AQv",
        "colab": {
          "base_uri": "https://localhost:8080/"
        },
        "outputId": "145e7a73-2b55-4d2a-a25d-d78aa03e86bc"
      },
      "source": [
        "from google.colab import drive\n",
        "drive.mount('/content/drive')"
      ],
      "execution_count": 537,
      "outputs": [
        {
          "output_type": "stream",
          "name": "stdout",
          "text": [
            "Drive already mounted at /content/drive; to attempt to forcibly remount, call drive.mount(\"/content/drive\", force_remount=True).\n"
          ]
        }
      ]
    },
    {
      "cell_type": "code",
      "metadata": {
        "id": "uwEYKIsq2-Oj"
      },
      "source": [
        "import pandas as pd\n",
        "import seaborn as sns\n",
        "import matplotlib.pyplot as plt\n",
        "import numpy as np\n",
        "from matplotlib import *\n",
        "import warnings\n",
        "warnings.filterwarnings(\"ignore\")\n",
        "\n",
        "sns.set_theme(style=\"ticks\")"
      ],
      "execution_count": 538,
      "outputs": []
    },
    {
      "cell_type": "markdown",
      "metadata": {
        "id": "lA-cxTzv2RcN"
      },
      "source": [
        "# Coursera course data"
      ]
    },
    {
      "cell_type": "code",
      "metadata": {
        "id": "5gOv5DrZ3Qo2"
      },
      "source": [
        "coursera_data = pd.read_csv('/content/drive/MyDrive/coursea_data.csv', index_col = 0)"
      ],
      "execution_count": 539,
      "outputs": []
    },
    {
      "cell_type": "code",
      "metadata": {
        "id": "roXVjUkHibWx"
      },
      "source": [
        "coursera_data = coursera_data.sort_index()"
      ],
      "execution_count": 540,
      "outputs": []
    },
    {
      "cell_type": "code",
      "metadata": {
        "id": "jxp_g39V3mq4",
        "colab": {
          "base_uri": "https://localhost:8080/",
          "height": 206
        },
        "outputId": "3b64ea44-8ecc-431d-e767-ed6e0943202a"
      },
      "source": [
        "coursera_data.head(5)"
      ],
      "execution_count": 541,
      "outputs": [
        {
          "output_type": "execute_result",
          "data": {
            "text/html": [
              "<div>\n",
              "<style scoped>\n",
              "    .dataframe tbody tr th:only-of-type {\n",
              "        vertical-align: middle;\n",
              "    }\n",
              "\n",
              "    .dataframe tbody tr th {\n",
              "        vertical-align: top;\n",
              "    }\n",
              "\n",
              "    .dataframe thead th {\n",
              "        text-align: right;\n",
              "    }\n",
              "</style>\n",
              "<table border=\"1\" class=\"dataframe\">\n",
              "  <thead>\n",
              "    <tr style=\"text-align: right;\">\n",
              "      <th></th>\n",
              "      <th>course_title</th>\n",
              "      <th>course_organization</th>\n",
              "      <th>course_Certificate_type</th>\n",
              "      <th>course_rating</th>\n",
              "      <th>course_difficulty</th>\n",
              "      <th>course_students_enrolled</th>\n",
              "    </tr>\n",
              "  </thead>\n",
              "  <tbody>\n",
              "    <tr>\n",
              "      <th>0</th>\n",
              "      <td>IBM Data Science</td>\n",
              "      <td>IBM</td>\n",
              "      <td>PROFESSIONAL CERTIFICATE</td>\n",
              "      <td>4.6</td>\n",
              "      <td>Beginner</td>\n",
              "      <td>480k</td>\n",
              "    </tr>\n",
              "    <tr>\n",
              "      <th>1</th>\n",
              "      <td>Introduction to Data Science</td>\n",
              "      <td>IBM</td>\n",
              "      <td>SPECIALIZATION</td>\n",
              "      <td>4.6</td>\n",
              "      <td>Beginner</td>\n",
              "      <td>310k</td>\n",
              "    </tr>\n",
              "    <tr>\n",
              "      <th>2</th>\n",
              "      <td>The Science of Well-Being</td>\n",
              "      <td>Yale University</td>\n",
              "      <td>COURSE</td>\n",
              "      <td>4.9</td>\n",
              "      <td>Mixed</td>\n",
              "      <td>2.5m</td>\n",
              "    </tr>\n",
              "    <tr>\n",
              "      <th>3</th>\n",
              "      <td>Python for Everybody</td>\n",
              "      <td>University of Michigan</td>\n",
              "      <td>SPECIALIZATION</td>\n",
              "      <td>4.8</td>\n",
              "      <td>Beginner</td>\n",
              "      <td>1.5m</td>\n",
              "    </tr>\n",
              "    <tr>\n",
              "      <th>4</th>\n",
              "      <td>Google IT Support</td>\n",
              "      <td>Google</td>\n",
              "      <td>PROFESSIONAL CERTIFICATE</td>\n",
              "      <td>4.8</td>\n",
              "      <td>Beginner</td>\n",
              "      <td>350k</td>\n",
              "    </tr>\n",
              "  </tbody>\n",
              "</table>\n",
              "</div>"
            ],
            "text/plain": [
              "                   course_title  ... course_students_enrolled\n",
              "0              IBM Data Science  ...                     480k\n",
              "1  Introduction to Data Science  ...                     310k\n",
              "2     The Science of Well-Being  ...                     2.5m\n",
              "3          Python for Everybody  ...                     1.5m\n",
              "4             Google IT Support  ...                     350k\n",
              "\n",
              "[5 rows x 6 columns]"
            ]
          },
          "metadata": {},
          "execution_count": 541
        }
      ]
    },
    {
      "cell_type": "markdown",
      "metadata": {
        "id": "kyxxI6wa1P6D"
      },
      "source": [
        "The dataset contains information about courses on Coursera.com. It includes:\n",
        "* the title of the course\n",
        "* the organization behind each course\n",
        "* the certificate that can be obtained upon graduation \n",
        "* course average rating (1-5 stars)\n",
        "* course difficulty\n",
        "* the number of students enrolled"
      ]
    },
    {
      "cell_type": "code",
      "metadata": {
        "colab": {
          "base_uri": "https://localhost:8080/"
        },
        "id": "AcjIejobaHI9",
        "outputId": "29d4537b-43c4-47d2-9dab-f7c4f5856016"
      },
      "source": [
        "coursera_data.shape"
      ],
      "execution_count": 542,
      "outputs": [
        {
          "output_type": "execute_result",
          "data": {
            "text/plain": [
              "(891, 6)"
            ]
          },
          "metadata": {},
          "execution_count": 542
        }
      ]
    },
    {
      "cell_type": "code",
      "metadata": {
        "colab": {
          "base_uri": "https://localhost:8080/"
        },
        "id": "o6ENIvvDfZDH",
        "outputId": "98a36474-0125-49e5-fbfb-739793470fea"
      },
      "source": [
        "# check duplicate rows\n",
        "coursera_data.duplicated().any()"
      ],
      "execution_count": 543,
      "outputs": [
        {
          "output_type": "execute_result",
          "data": {
            "text/plain": [
              "False"
            ]
          },
          "metadata": {},
          "execution_count": 543
        }
      ]
    },
    {
      "cell_type": "code",
      "metadata": {
        "colab": {
          "base_uri": "https://localhost:8080/"
        },
        "id": "E1vVEsk3hX0j",
        "outputId": "2c9f6d4c-2f6d-4134-9a50-472b812897ca"
      },
      "source": [
        "# check if any null values exist\n",
        "coursera_data.isnull().any()"
      ],
      "execution_count": 544,
      "outputs": [
        {
          "output_type": "execute_result",
          "data": {
            "text/plain": [
              "course_title                False\n",
              "course_organization         False\n",
              "course_Certificate_type     False\n",
              "course_rating               False\n",
              "course_difficulty           False\n",
              "course_students_enrolled    False\n",
              "dtype: bool"
            ]
          },
          "metadata": {},
          "execution_count": 544
        }
      ]
    },
    {
      "cell_type": "markdown",
      "metadata": {
        "id": "mLdULN8w19Ky"
      },
      "source": [
        "The dataset does contains information about 890 courses, any of which have any missing or duplicate values. However, it lacks propper number formatting for the number of students enrolled. Let's fix this."
      ]
    },
    {
      "cell_type": "code",
      "metadata": {
        "id": "MwBhQHYRbIao"
      },
      "source": [
        "# format 'students enrolled' to int\n",
        "coursera_data['course_students_enrolled'] = coursera_data['course_students_enrolled'].replace({'k': '*1e3', 'm': '*1e6'}, regex=True).map(pd.eval).astype(int)"
      ],
      "execution_count": 545,
      "outputs": []
    },
    {
      "cell_type": "code",
      "metadata": {
        "colab": {
          "base_uri": "https://localhost:8080/",
          "height": 206
        },
        "id": "RPf5S5WzfGtJ",
        "outputId": "adb401c2-ea14-421c-aaba-e76c89633bec"
      },
      "source": [
        "coursera_data.head(5)"
      ],
      "execution_count": 546,
      "outputs": [
        {
          "output_type": "execute_result",
          "data": {
            "text/html": [
              "<div>\n",
              "<style scoped>\n",
              "    .dataframe tbody tr th:only-of-type {\n",
              "        vertical-align: middle;\n",
              "    }\n",
              "\n",
              "    .dataframe tbody tr th {\n",
              "        vertical-align: top;\n",
              "    }\n",
              "\n",
              "    .dataframe thead th {\n",
              "        text-align: right;\n",
              "    }\n",
              "</style>\n",
              "<table border=\"1\" class=\"dataframe\">\n",
              "  <thead>\n",
              "    <tr style=\"text-align: right;\">\n",
              "      <th></th>\n",
              "      <th>course_title</th>\n",
              "      <th>course_organization</th>\n",
              "      <th>course_Certificate_type</th>\n",
              "      <th>course_rating</th>\n",
              "      <th>course_difficulty</th>\n",
              "      <th>course_students_enrolled</th>\n",
              "    </tr>\n",
              "  </thead>\n",
              "  <tbody>\n",
              "    <tr>\n",
              "      <th>0</th>\n",
              "      <td>IBM Data Science</td>\n",
              "      <td>IBM</td>\n",
              "      <td>PROFESSIONAL CERTIFICATE</td>\n",
              "      <td>4.6</td>\n",
              "      <td>Beginner</td>\n",
              "      <td>480000</td>\n",
              "    </tr>\n",
              "    <tr>\n",
              "      <th>1</th>\n",
              "      <td>Introduction to Data Science</td>\n",
              "      <td>IBM</td>\n",
              "      <td>SPECIALIZATION</td>\n",
              "      <td>4.6</td>\n",
              "      <td>Beginner</td>\n",
              "      <td>310000</td>\n",
              "    </tr>\n",
              "    <tr>\n",
              "      <th>2</th>\n",
              "      <td>The Science of Well-Being</td>\n",
              "      <td>Yale University</td>\n",
              "      <td>COURSE</td>\n",
              "      <td>4.9</td>\n",
              "      <td>Mixed</td>\n",
              "      <td>2500000</td>\n",
              "    </tr>\n",
              "    <tr>\n",
              "      <th>3</th>\n",
              "      <td>Python for Everybody</td>\n",
              "      <td>University of Michigan</td>\n",
              "      <td>SPECIALIZATION</td>\n",
              "      <td>4.8</td>\n",
              "      <td>Beginner</td>\n",
              "      <td>1500000</td>\n",
              "    </tr>\n",
              "    <tr>\n",
              "      <th>4</th>\n",
              "      <td>Google IT Support</td>\n",
              "      <td>Google</td>\n",
              "      <td>PROFESSIONAL CERTIFICATE</td>\n",
              "      <td>4.8</td>\n",
              "      <td>Beginner</td>\n",
              "      <td>350000</td>\n",
              "    </tr>\n",
              "  </tbody>\n",
              "</table>\n",
              "</div>"
            ],
            "text/plain": [
              "                   course_title  ... course_students_enrolled\n",
              "0              IBM Data Science  ...                   480000\n",
              "1  Introduction to Data Science  ...                   310000\n",
              "2     The Science of Well-Being  ...                  2500000\n",
              "3          Python for Everybody  ...                  1500000\n",
              "4             Google IT Support  ...                   350000\n",
              "\n",
              "[5 rows x 6 columns]"
            ]
          },
          "metadata": {},
          "execution_count": 546
        }
      ]
    },
    {
      "cell_type": "code",
      "metadata": {
        "colab": {
          "base_uri": "https://localhost:8080/"
        },
        "id": "Qz_uHhXmhw8f",
        "outputId": "34d77da9-ede3-4fc0-911d-ec53f1a51eeb"
      },
      "source": [
        "len(coursera_data['course_organization'].unique())"
      ],
      "execution_count": 547,
      "outputs": [
        {
          "output_type": "execute_result",
          "data": {
            "text/plain": [
              "154"
            ]
          },
          "metadata": {},
          "execution_count": 547
        }
      ]
    },
    {
      "cell_type": "markdown",
      "metadata": {
        "id": "GbhvbjL_2YiO"
      },
      "source": [
        "The courses in Coursera.com are created by 154 different organizations."
      ]
    },
    {
      "cell_type": "code",
      "metadata": {
        "id": "EF-l-B_ah5Lp"
      },
      "source": [
        "organization_count = coursera_data['course_organization'].value_counts()"
      ],
      "execution_count": 548,
      "outputs": []
    },
    {
      "cell_type": "code",
      "metadata": {
        "colab": {
          "base_uri": "https://localhost:8080/"
        },
        "id": "MN68gtfMjPp4",
        "outputId": "97141199-89af-476f-8643-55bef5873c9c"
      },
      "source": [
        "# organizations that only have 1 course published\n",
        "len(organization_count[organization_count == 1])"
      ],
      "execution_count": 549,
      "outputs": [
        {
          "output_type": "execute_result",
          "data": {
            "text/plain": [
              "49"
            ]
          },
          "metadata": {},
          "execution_count": 549
        }
      ]
    },
    {
      "cell_type": "markdown",
      "metadata": {
        "id": "Ic_uPtZC3Cc8"
      },
      "source": [
        "49 organizations have ony one course published."
      ]
    },
    {
      "cell_type": "code",
      "metadata": {
        "colab": {
          "base_uri": "https://localhost:8080/"
        },
        "id": "pZ__9ObOjGip",
        "outputId": "f0d4b31d-8aa9-4a1b-b511-93be2150351d"
      },
      "source": [
        "# organization with most courses published\n",
        "print(f'{organization_count.idxmax()} has published {organization_count.max()} courses.')"
      ],
      "execution_count": 575,
      "outputs": [
        {
          "output_type": "stream",
          "name": "stdout",
          "text": [
            "University of Pennsylvania has published 59 courses.\n"
          ]
        }
      ]
    },
    {
      "cell_type": "markdown",
      "metadata": {
        "id": "HcPO9aYU3O8Y"
      },
      "source": [
        "The record breaker for most courses published is the University of Pensylvania with 59 courses in total."
      ]
    },
    {
      "cell_type": "code",
      "metadata": {
        "colab": {
          "base_uri": "https://localhost:8080/"
        },
        "id": "CSSrdJ3hkLsQ",
        "outputId": "e8b005bf-a95e-4d02-eaff-e20519d1e4e5"
      },
      "source": [
        "coursera_data['course_Certificate_type'].value_counts()"
      ],
      "execution_count": 551,
      "outputs": [
        {
          "output_type": "execute_result",
          "data": {
            "text/plain": [
              "COURSE                      582\n",
              "SPECIALIZATION              297\n",
              "PROFESSIONAL CERTIFICATE     12\n",
              "Name: course_Certificate_type, dtype: int64"
            ]
          },
          "metadata": {},
          "execution_count": 551
        }
      ]
    },
    {
      "cell_type": "markdown",
      "metadata": {
        "id": "tFGlSxD23iGX"
      },
      "source": [
        "Out of the different specializtion certificates offered, most often offered is a _course certification_, while _professional certificate_ is very scarse (only 12 of the 890 courses)."
      ]
    },
    {
      "cell_type": "code",
      "metadata": {
        "id": "B5iMF_jV4rmN",
        "outputId": "0ec67007-ed01-4b99-efd8-b26397f3a976",
        "colab": {
          "base_uri": "https://localhost:8080/",
          "height": 425
        }
      },
      "source": [
        "coursera_data[coursera_data['course_Certificate_type'] == 'PROFESSIONAL CERTIFICATE']"
      ],
      "execution_count": 577,
      "outputs": [
        {
          "output_type": "execute_result",
          "data": {
            "text/html": [
              "<div>\n",
              "<style scoped>\n",
              "    .dataframe tbody tr th:only-of-type {\n",
              "        vertical-align: middle;\n",
              "    }\n",
              "\n",
              "    .dataframe tbody tr th {\n",
              "        vertical-align: top;\n",
              "    }\n",
              "\n",
              "    .dataframe thead th {\n",
              "        text-align: right;\n",
              "    }\n",
              "</style>\n",
              "<table border=\"1\" class=\"dataframe\">\n",
              "  <thead>\n",
              "    <tr style=\"text-align: right;\">\n",
              "      <th></th>\n",
              "      <th>course_title</th>\n",
              "      <th>course_organization</th>\n",
              "      <th>course_Certificate_type</th>\n",
              "      <th>course_rating</th>\n",
              "      <th>course_difficulty</th>\n",
              "      <th>course_students_enrolled</th>\n",
              "    </tr>\n",
              "  </thead>\n",
              "  <tbody>\n",
              "    <tr>\n",
              "      <th>0</th>\n",
              "      <td>IBM Data Science</td>\n",
              "      <td>IBM</td>\n",
              "      <td>PROFESSIONAL CERTIFICATE</td>\n",
              "      <td>4.6</td>\n",
              "      <td>Beginner</td>\n",
              "      <td>480000</td>\n",
              "    </tr>\n",
              "    <tr>\n",
              "      <th>4</th>\n",
              "      <td>Google IT Support</td>\n",
              "      <td>Google</td>\n",
              "      <td>PROFESSIONAL CERTIFICATE</td>\n",
              "      <td>4.8</td>\n",
              "      <td>Beginner</td>\n",
              "      <td>350000</td>\n",
              "    </tr>\n",
              "    <tr>\n",
              "      <th>9</th>\n",
              "      <td>Cloud Engineering with Google Cloud</td>\n",
              "      <td>Google Cloud</td>\n",
              "      <td>PROFESSIONAL CERTIFICATE</td>\n",
              "      <td>4.7</td>\n",
              "      <td>Intermediate</td>\n",
              "      <td>310000</td>\n",
              "    </tr>\n",
              "    <tr>\n",
              "      <th>12</th>\n",
              "      <td>IBM Applied AI</td>\n",
              "      <td>IBM</td>\n",
              "      <td>PROFESSIONAL CERTIFICATE</td>\n",
              "      <td>4.6</td>\n",
              "      <td>Beginner</td>\n",
              "      <td>220000</td>\n",
              "    </tr>\n",
              "    <tr>\n",
              "      <th>22</th>\n",
              "      <td>Data Engineering with Google Cloud</td>\n",
              "      <td>Google Cloud</td>\n",
              "      <td>PROFESSIONAL CERTIFICATE</td>\n",
              "      <td>4.6</td>\n",
              "      <td>Intermediate</td>\n",
              "      <td>120000</td>\n",
              "    </tr>\n",
              "    <tr>\n",
              "      <th>25</th>\n",
              "      <td>Google IT Automation with Python</td>\n",
              "      <td>Google</td>\n",
              "      <td>PROFESSIONAL CERTIFICATE</td>\n",
              "      <td>4.7</td>\n",
              "      <td>Beginner</td>\n",
              "      <td>93000</td>\n",
              "    </tr>\n",
              "    <tr>\n",
              "      <th>34</th>\n",
              "      <td>IBM AI Engineering</td>\n",
              "      <td>IBM</td>\n",
              "      <td>PROFESSIONAL CERTIFICATE</td>\n",
              "      <td>4.6</td>\n",
              "      <td>Intermediate</td>\n",
              "      <td>140000</td>\n",
              "    </tr>\n",
              "    <tr>\n",
              "      <th>56</th>\n",
              "      <td>Arizona State University TESOL</td>\n",
              "      <td>Arizona State University</td>\n",
              "      <td>PROFESSIONAL CERTIFICATE</td>\n",
              "      <td>4.9</td>\n",
              "      <td>Beginner</td>\n",
              "      <td>150000</td>\n",
              "    </tr>\n",
              "    <tr>\n",
              "      <th>153</th>\n",
              "      <td>UCI Project Management</td>\n",
              "      <td>University of California, Irvine</td>\n",
              "      <td>PROFESSIONAL CERTIFICATE</td>\n",
              "      <td>4.6</td>\n",
              "      <td>Beginner</td>\n",
              "      <td>44000</td>\n",
              "    </tr>\n",
              "    <tr>\n",
              "      <th>160</th>\n",
              "      <td>SAS Programmer</td>\n",
              "      <td>SAS</td>\n",
              "      <td>PROFESSIONAL CERTIFICATE</td>\n",
              "      <td>4.8</td>\n",
              "      <td>Beginner</td>\n",
              "      <td>370000</td>\n",
              "    </tr>\n",
              "    <tr>\n",
              "      <th>363</th>\n",
              "      <td>Soporte de Tecnologías de la Información de Go...</td>\n",
              "      <td>Crece con Google</td>\n",
              "      <td>PROFESSIONAL CERTIFICATE</td>\n",
              "      <td>4.9</td>\n",
              "      <td>Beginner</td>\n",
              "      <td>8800</td>\n",
              "    </tr>\n",
              "    <tr>\n",
              "      <th>393</th>\n",
              "      <td>SAS Visual Business Analytics</td>\n",
              "      <td>SAS</td>\n",
              "      <td>PROFESSIONAL CERTIFICATE</td>\n",
              "      <td>4.6</td>\n",
              "      <td>Beginner</td>\n",
              "      <td>2600</td>\n",
              "    </tr>\n",
              "  </tbody>\n",
              "</table>\n",
              "</div>"
            ],
            "text/plain": [
              "                                          course_title  ... course_students_enrolled\n",
              "0                                     IBM Data Science  ...                   480000\n",
              "4                                    Google IT Support  ...                   350000\n",
              "9                  Cloud Engineering with Google Cloud  ...                   310000\n",
              "12                                      IBM Applied AI  ...                   220000\n",
              "22                  Data Engineering with Google Cloud  ...                   120000\n",
              "25                    Google IT Automation with Python  ...                    93000\n",
              "34                                  IBM AI Engineering  ...                   140000\n",
              "56                      Arizona State University TESOL  ...                   150000\n",
              "153                             UCI Project Management  ...                    44000\n",
              "160                                     SAS Programmer  ...                   370000\n",
              "363  Soporte de Tecnologías de la Información de Go...  ...                     8800\n",
              "393                      SAS Visual Business Analytics  ...                     2600\n",
              "\n",
              "[12 rows x 6 columns]"
            ]
          },
          "metadata": {},
          "execution_count": 577
        }
      ]
    },
    {
      "cell_type": "code",
      "metadata": {
        "colab": {
          "base_uri": "https://localhost:8080/",
          "height": 611
        },
        "id": "3vgUxS6zk-2P",
        "outputId": "ff4db3b1-3a64-43b0-800a-818335edf2f2"
      },
      "source": [
        "f, ax = plt.subplots(figsize=(7,10))\n",
        "sns.despine() \n",
        "\n",
        "# add x-axis to plot\n",
        "# add number values\n",
        "\n",
        "sns.histplot(coursera_data, x=\"course_difficulty\", hue=\"course_Certificate_type\",multiple=\"stack\", palette='viridis')\n",
        "plt.xlabel('Course difficulty level')\n",
        "ax.get_legend().set_title(\"Course certificate type\")\n",
        "plt.show()"
      ],
      "execution_count": 581,
      "outputs": [
        {
          "output_type": "display_data",
          "data": {
            "image/png": "[encoded data removed]",
            "text/plain": [
              "<Figure size 504x720 with 1 Axes>"
            ]
          },
          "metadata": {}
        }
      ]
    },
    {
      "cell_type": "code",
      "metadata": {
        "colab": {
          "base_uri": "https://localhost:8080/",
          "height": 301
        },
        "id": "FM63ja2Bqo7F",
        "outputId": "36e784f5-0132-4705-a452-b262dec0ed94"
      },
      "source": [
        "f, ax = plt.subplots(figsize=(11,4))\n",
        "sns.despine() \n",
        "sns.set_theme(style='whitegrid')\n",
        "ratings_boxplot = sns.boxplot(data=coursera_data[['course_difficulty', 'course_rating']], y='course_difficulty', x='course_rating', orient='h', palette='crest')\n",
        "ratings_boxplot.set(title='Distribution of Ratings Across Different Difficulty Courses')\n",
        "ax.set_xlabel('Course rating')\n",
        "ax.set_ylabel('')\n",
        "plt.show()"
      ],
      "execution_count": 554,
      "outputs": [
        {
          "output_type": "display_data",
          "data": {
            "image/png": "[encoded data removed]",
            "text/plain": [
              "<Figure size 792x288 with 1 Axes>"
            ]
          },
          "metadata": {}
        }
      ]
    },
    {
      "cell_type": "code",
      "metadata": {
        "id": "k-XqU_lTvgSj"
      },
      "source": [
        "student_count = coursera_data.groupby('course_organization')['course_students_enrolled'].sum()"
      ],
      "execution_count": 555,
      "outputs": []
    },
    {
      "cell_type": "code",
      "metadata": {
        "id": "DG8-Cny5xnB5",
        "colab": {
          "base_uri": "https://localhost:8080/"
        },
        "outputId": "c13630ea-51bf-47a4-b64e-a91f1ba83694"
      },
      "source": [
        "# most students enrolled\n",
        "print(f'{student_count.idxmax()} has the maximum number of enrolled students totalling up to {student_count.max()}!')"
      ],
      "execution_count": 574,
      "outputs": [
        {
          "output_type": "stream",
          "name": "stdout",
          "text": [
            "University of Michigan has the maximum number of enrolled students totalling up to 7437700!\n"
          ]
        }
      ]
    },
    {
      "cell_type": "code",
      "metadata": {
        "id": "TPR2kF56yTRB",
        "colab": {
          "base_uri": "https://localhost:8080/",
          "height": 138
        },
        "outputId": "5efd0506-eb68-4a3b-863c-7cf3528d2b47"
      },
      "source": [
        "f, ax = plt.subplots(figsize=(12,1))\n",
        "sns.despine() \n",
        "sns.boxplot(student_count).set(title='Distribution of Enrolled Students')\n",
        "plt.show()"
      ],
      "execution_count": 557,
      "outputs": [
        {
          "output_type": "display_data",
          "data": {
            "image/png": "[encoded data removed]",
            "text/plain": [
              "<Figure size 864x72 with 1 Axes>"
            ]
          },
          "metadata": {}
        }
      ]
    },
    {
      "cell_type": "code",
      "metadata": {
        "id": "lq4OKnpLzNmC"
      },
      "source": [
        "# filter which topics would interest a future data scientist\n",
        "data_science_keywords = '|'.join(['Python', 'Machine Learning', 'ML', 'SQL', 'Data \\\n",
        "Science', 'Data Analysis', 'Artificial Intelligence', 'AI', 'Big Data', 'Data \\\n",
        "Visualization', 'Data Collection', 'Data Engineering', 'Data Mining', 'Deep \\\n",
        "Learning', 'MySQL', 'Neural Networks'])\n",
        "\n",
        "data_science_courses = coursera_data[coursera_data['course_title'].str.contains(data_science_keywords)]"
      ],
      "execution_count": 558,
      "outputs": []
    },
    {
      "cell_type": "code",
      "metadata": {
        "colab": {
          "base_uri": "https://localhost:8080/"
        },
        "id": "66V4zXRo9LQj",
        "outputId": "7ff39782-6c82-48c0-c3f8-d2860d8795af"
      },
      "source": [
        "data_science_courses.shape"
      ],
      "execution_count": 559,
      "outputs": [
        {
          "output_type": "execute_result",
          "data": {
            "text/plain": [
              "(111, 6)"
            ]
          },
          "metadata": {},
          "execution_count": 559
        }
      ]
    },
    {
      "cell_type": "code",
      "metadata": {
        "colab": {
          "base_uri": "https://localhost:8080/"
        },
        "id": "CIVDRt8O9Va3",
        "outputId": "481ebb6b-4807-475b-e9c3-8b5bd8078881"
      },
      "source": [
        "data_science_courses['course_Certificate_type'].value_counts()"
      ],
      "execution_count": 560,
      "outputs": [
        {
          "output_type": "execute_result",
          "data": {
            "text/plain": [
              "COURSE                      66\n",
              "SPECIALIZATION              40\n",
              "PROFESSIONAL CERTIFICATE     5\n",
              "Name: course_Certificate_type, dtype: int64"
            ]
          },
          "metadata": {},
          "execution_count": 560
        }
      ]
    },
    {
      "cell_type": "code",
      "metadata": {
        "colab": {
          "base_uri": "https://localhost:8080/",
          "height": 611
        },
        "id": "Kt6SpA2FB0TQ",
        "outputId": "8e263d7d-557f-4305-be07-72190475576a"
      },
      "source": [
        "f, ax = plt.subplots(figsize=(7,10))\n",
        "sns.despine() \n",
        "\n",
        "# add x-axis to plot\n",
        "# add number values\n",
        "\n",
        "sns.histplot(data_science_courses, x=\"course_difficulty\", hue=\"course_Certificate_type\",multiple=\"stack\", palette='viridis')\n",
        "plt.xlabel('Course difficulty level')\n",
        "ax.get_legend().set_title(\"Course certificate type\")\n",
        "plt.show()"
      ],
      "execution_count": 561,
      "outputs": [
        {
          "output_type": "display_data",
          "data": {
            "image/png": "[encoded data removed]",
            "text/plain": [
              "<Figure size 504x720 with 1 Axes>"
            ]
          },
          "metadata": {}
        }
      ]
    },
    {
      "cell_type": "code",
      "metadata": {
        "colab": {
          "base_uri": "https://localhost:8080/",
          "height": 122
        },
        "id": "j7PuSn5T9qNj",
        "outputId": "0e0926c5-27c3-4a9e-c42d-646e09fc8215"
      },
      "source": [
        "f, ax = plt.subplots(figsize=(12,1))\n",
        "sns.boxplot(data_science_courses['course_students_enrolled'])\n",
        "plt.show()"
      ],
      "execution_count": 562,
      "outputs": [
        {
          "output_type": "display_data",
          "data": {
            "image/png": "[encoded data removed]",
            "text/plain": [
              "<Figure size 864x72 with 1 Axes>"
            ]
          },
          "metadata": {}
        }
      ]
    },
    {
      "cell_type": "markdown",
      "metadata": {
        "id": "3EhCjhlMCj4D"
      },
      "source": [
        "The graph indicates eight outliers ot of which one has more than 3 million students enrolled!"
      ]
    },
    {
      "cell_type": "code",
      "metadata": {
        "colab": {
          "base_uri": "https://localhost:8080/",
          "height": 80
        },
        "id": "Ocwdtood-RAF",
        "outputId": "b0f4eb1e-83e5-437f-a3d2-7b5473d40e92"
      },
      "source": [
        "data_science_courses[data_science_courses['course_students_enrolled'] == data_science_courses['course_students_enrolled'].max()]"
      ],
      "execution_count": 563,
      "outputs": [
        {
          "output_type": "execute_result",
          "data": {
            "text/html": [
              "<div>\n",
              "<style scoped>\n",
              "    .dataframe tbody tr th:only-of-type {\n",
              "        vertical-align: middle;\n",
              "    }\n",
              "\n",
              "    .dataframe tbody tr th {\n",
              "        vertical-align: top;\n",
              "    }\n",
              "\n",
              "    .dataframe thead th {\n",
              "        text-align: right;\n",
              "    }\n",
              "</style>\n",
              "<table border=\"1\" class=\"dataframe\">\n",
              "  <thead>\n",
              "    <tr style=\"text-align: right;\">\n",
              "      <th></th>\n",
              "      <th>course_title</th>\n",
              "      <th>course_organization</th>\n",
              "      <th>course_Certificate_type</th>\n",
              "      <th>course_rating</th>\n",
              "      <th>course_difficulty</th>\n",
              "      <th>course_students_enrolled</th>\n",
              "    </tr>\n",
              "  </thead>\n",
              "  <tbody>\n",
              "    <tr>\n",
              "      <th>6</th>\n",
              "      <td>Machine Learning</td>\n",
              "      <td>Stanford University</td>\n",
              "      <td>COURSE</td>\n",
              "      <td>4.9</td>\n",
              "      <td>Mixed</td>\n",
              "      <td>3200000</td>\n",
              "    </tr>\n",
              "  </tbody>\n",
              "</table>\n",
              "</div>"
            ],
            "text/plain": [
              "       course_title  ... course_students_enrolled\n",
              "6  Machine Learning  ...                  3200000\n",
              "\n",
              "[1 rows x 6 columns]"
            ]
          },
          "metadata": {},
          "execution_count": 563
        }
      ]
    },
    {
      "cell_type": "markdown",
      "metadata": {
        "id": "RfOzTBaCC63x"
      },
      "source": [
        "It turns out this is the infamous Machine Learning course by Stanford University. The course has great reviews and is a topic of a lot of data science memes on the Internet."
      ]
    },
    {
      "cell_type": "code",
      "metadata": {
        "colab": {
          "base_uri": "https://localhost:8080/",
          "height": 301
        },
        "id": "o0hyDExnCNNl",
        "outputId": "58e7ac6c-60a6-4b14-aa35-6309b60cbfda"
      },
      "source": [
        "f, ax = plt.subplots(figsize=(11,4))\n",
        "sns.despine() \n",
        "sns.set_theme(style='whitegrid')\n",
        "ratings_boxplot = sns.boxplot(data=data_science_courses[['course_difficulty', 'course_rating']], y='course_difficulty', x='course_rating', orient='h', palette='crest')\n",
        "ratings_boxplot.set(title='Distribution of Ratings Across Different Difficulty Courses')\n",
        "ax.set_xlabel('Course rating')\n",
        "ax.set_ylabel('')\n",
        "plt.show()"
      ],
      "execution_count": 564,
      "outputs": [
        {
          "output_type": "display_data",
          "data": {
            "image/png": "[encoded data removed]",
            "text/plain": [
              "<Figure size 792x288 with 1 Axes>"
            ]
          },
          "metadata": {}
        }
      ]
    },
    {
      "cell_type": "markdown",
      "metadata": {
        "id": "CxBDNhtRw_jj"
      },
      "source": [
        "One beginner course seems to stand out of the rest with an average rating of almost _5.0_. Could this be a worthwhile course for a beginner data science student?"
      ]
    },
    {
      "cell_type": "code",
      "metadata": {
        "id": "Qx-82TH-w2iM",
        "outputId": "6eef366e-a868-430e-9b3e-7773ea683023",
        "colab": {
          "base_uri": "https://localhost:8080/",
          "height": 112
        }
      },
      "source": [
        "beginner_courses = data_science_courses[data_science_courses['course_difficulty'] == 'Beginner']\n",
        "beginner_courses[beginner_courses['course_rating'] == beginner_courses['course_rating'].max()]"
      ],
      "execution_count": 573,
      "outputs": [
        {
          "output_type": "execute_result",
          "data": {
            "text/html": [
              "<div>\n",
              "<style scoped>\n",
              "    .dataframe tbody tr th:only-of-type {\n",
              "        vertical-align: middle;\n",
              "    }\n",
              "\n",
              "    .dataframe tbody tr th {\n",
              "        vertical-align: top;\n",
              "    }\n",
              "\n",
              "    .dataframe thead th {\n",
              "        text-align: right;\n",
              "    }\n",
              "</style>\n",
              "<table border=\"1\" class=\"dataframe\">\n",
              "  <thead>\n",
              "    <tr style=\"text-align: right;\">\n",
              "      <th></th>\n",
              "      <th>course_title</th>\n",
              "      <th>course_organization</th>\n",
              "      <th>course_Certificate_type</th>\n",
              "      <th>course_rating</th>\n",
              "      <th>course_difficulty</th>\n",
              "      <th>course_students_enrolled</th>\n",
              "      <th>field_of_study</th>\n",
              "    </tr>\n",
              "  </thead>\n",
              "  <tbody>\n",
              "    <tr>\n",
              "      <th>123</th>\n",
              "      <td>Improving Deep Neural Networks: Hyperparameter...</td>\n",
              "      <td>deeplearning.ai</td>\n",
              "      <td>COURSE</td>\n",
              "      <td>4.9</td>\n",
              "      <td>Beginner</td>\n",
              "      <td>270000</td>\n",
              "      <td>data science</td>\n",
              "    </tr>\n",
              "    <tr>\n",
              "      <th>866</th>\n",
              "      <td>Introdução à Ciência da Computação com Python ...</td>\n",
              "      <td>Universidade de São Paulo</td>\n",
              "      <td>COURSE</td>\n",
              "      <td>4.9</td>\n",
              "      <td>Beginner</td>\n",
              "      <td>120000</td>\n",
              "      <td>data science</td>\n",
              "    </tr>\n",
              "  </tbody>\n",
              "</table>\n",
              "</div>"
            ],
            "text/plain": [
              "                                          course_title  ... field_of_study\n",
              "123  Improving Deep Neural Networks: Hyperparameter...  ...   data science\n",
              "866  Introdução à Ciência da Computação com Python ...  ...   data science\n",
              "\n",
              "[2 rows x 7 columns]"
            ]
          },
          "metadata": {},
          "execution_count": 573
        }
      ]
    },
    {
      "cell_type": "markdown",
      "metadata": {
        "id": "LPGeusT9zLYO"
      },
      "source": [
        "It turns out that this may not be a good option for a complete beginner who does not speak Portugese.\n",
        "\n",
        "The Deep Neural Networks course is a part of the Deep Learning Specialization in Coursera and might be a good fit for someone who has some background in data exploration and Python programming but is just yet starting their journey into Deep Learning.\n",
        "\n",
        "Interesting this is that this course is tought by the same lecturer Andrew Ng. \n"
      ]
    },
    {
      "cell_type": "code",
      "metadata": {
        "colab": {
          "base_uri": "https://localhost:8080/",
          "height": 206
        },
        "id": "lbGV5QEFD6xA",
        "outputId": "dd02290c-0b46-4b01-b7e9-8f2f0c265c90"
      },
      "source": [
        "# create a field of study label for data science courses\n",
        "data_science_courses['field_of_study'] = 'data science'\n",
        "\n",
        "# add field of study label to Coursera data and label the rest of the courses as\n",
        "# 'other'\n",
        "coursera_categories = coursera_data.merge(data_science_courses, how='outer').\\\n",
        "fillna('other')\n",
        "coursera_categories.head(5)"
      ],
      "execution_count": 565,
      "outputs": [
        {
          "output_type": "execute_result",
          "data": {
            "text/html": [
              "<div>\n",
              "<style scoped>\n",
              "    .dataframe tbody tr th:only-of-type {\n",
              "        vertical-align: middle;\n",
              "    }\n",
              "\n",
              "    .dataframe tbody tr th {\n",
              "        vertical-align: top;\n",
              "    }\n",
              "\n",
              "    .dataframe thead th {\n",
              "        text-align: right;\n",
              "    }\n",
              "</style>\n",
              "<table border=\"1\" class=\"dataframe\">\n",
              "  <thead>\n",
              "    <tr style=\"text-align: right;\">\n",
              "      <th></th>\n",
              "      <th>course_title</th>\n",
              "      <th>course_organization</th>\n",
              "      <th>course_Certificate_type</th>\n",
              "      <th>course_rating</th>\n",
              "      <th>course_difficulty</th>\n",
              "      <th>course_students_enrolled</th>\n",
              "      <th>field_of_study</th>\n",
              "    </tr>\n",
              "  </thead>\n",
              "  <tbody>\n",
              "    <tr>\n",
              "      <th>0</th>\n",
              "      <td>IBM Data Science</td>\n",
              "      <td>IBM</td>\n",
              "      <td>PROFESSIONAL CERTIFICATE</td>\n",
              "      <td>4.6</td>\n",
              "      <td>Beginner</td>\n",
              "      <td>480000</td>\n",
              "      <td>data science</td>\n",
              "    </tr>\n",
              "    <tr>\n",
              "      <th>1</th>\n",
              "      <td>Introduction to Data Science</td>\n",
              "      <td>IBM</td>\n",
              "      <td>SPECIALIZATION</td>\n",
              "      <td>4.6</td>\n",
              "      <td>Beginner</td>\n",
              "      <td>310000</td>\n",
              "      <td>data science</td>\n",
              "    </tr>\n",
              "    <tr>\n",
              "      <th>2</th>\n",
              "      <td>The Science of Well-Being</td>\n",
              "      <td>Yale University</td>\n",
              "      <td>COURSE</td>\n",
              "      <td>4.9</td>\n",
              "      <td>Mixed</td>\n",
              "      <td>2500000</td>\n",
              "      <td>other</td>\n",
              "    </tr>\n",
              "    <tr>\n",
              "      <th>3</th>\n",
              "      <td>Python for Everybody</td>\n",
              "      <td>University of Michigan</td>\n",
              "      <td>SPECIALIZATION</td>\n",
              "      <td>4.8</td>\n",
              "      <td>Beginner</td>\n",
              "      <td>1500000</td>\n",
              "      <td>data science</td>\n",
              "    </tr>\n",
              "    <tr>\n",
              "      <th>4</th>\n",
              "      <td>Google IT Support</td>\n",
              "      <td>Google</td>\n",
              "      <td>PROFESSIONAL CERTIFICATE</td>\n",
              "      <td>4.8</td>\n",
              "      <td>Beginner</td>\n",
              "      <td>350000</td>\n",
              "      <td>other</td>\n",
              "    </tr>\n",
              "  </tbody>\n",
              "</table>\n",
              "</div>"
            ],
            "text/plain": [
              "                   course_title  ... field_of_study\n",
              "0              IBM Data Science  ...   data science\n",
              "1  Introduction to Data Science  ...   data science\n",
              "2     The Science of Well-Being  ...          other\n",
              "3          Python for Everybody  ...   data science\n",
              "4             Google IT Support  ...          other\n",
              "\n",
              "[5 rows x 7 columns]"
            ]
          },
          "metadata": {},
          "execution_count": 565
        }
      ]
    },
    {
      "cell_type": "code",
      "metadata": {
        "colab": {
          "base_uri": "https://localhost:8080/",
          "height": 301
        },
        "id": "ehEfgi63vmKO",
        "outputId": "252690ea-b3f5-4ad9-c886-110a91e06ae1"
      },
      "source": [
        "f, ax = plt.subplots(figsize=(11,4))\n",
        "sns.despine() \n",
        "sns.set_theme(style='whitegrid')\n",
        "\n",
        "ratings_boxplot = sns.violinplot(data=coursera_categories, y='course_\\\n",
        "difficulty', x='course_rating', orient='h', palette='crest', hue='field_of_\\\n",
        "study', split=True, inner=\"quart\", linewidth=1)\n",
        "ratings_boxplot.set(title='Distribution of Ratings Across Different Difficulty \\\n",
        "Courses')\n",
        "ax.set_xlabel('Course rating')\n",
        "ax.set_ylabel('')\n",
        "plt.show()"
      ],
      "execution_count": 566,
      "outputs": [
        {
          "output_type": "display_data",
          "data": {
            "image/png": "[encoded data removed]",
            "text/plain": [
              "<Figure size 792x288 with 1 Axes>"
            ]
          },
          "metadata": {}
        }
      ]
    }
  ]
}